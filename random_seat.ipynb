{
 "cells": [
  {
   "cell_type": "markdown",
   "id": "7fd7db63-9d3f-4c82-b1b4-e0510114c95a",
   "metadata": {},
   "source": [
    "#### Randomised Seat Numbers     \n",
    "A classroom has n rows of desks and each desk has m seats.  \n",
    "Return a shuffled list of row and seat numbers in the class.   "
   ]
  },
  {
   "cell_type": "code",
   "execution_count": 2,
   "id": "7a80ca42-53d0-4420-bea2-168b070df5dc",
   "metadata": {},
   "outputs": [],
   "source": [
    "start_row, end_row, num_cols = 1, 12, 10\n",
    "\n",
    "def get_row_col_pairs(start_row, end_row, num_cols):\n",
    "    from random import shuffle\n",
    "    \n",
    "    pairs = []\n",
    "    for row in range(start_row, end_row + 1):\n",
    "        for col in range(1, num_cols + 1):\n",
    "            pairs.append(f\"Row {row}   Seat {col}\")\n",
    "    \n",
    "    shuffle(pairs)\n",
    "    return pairs\n",
    "\n",
    "student = get_row_col_pairs(start_row, end_row, num_cols)"
   ]
  },
  {
   "cell_type": "markdown",
   "id": "82043d41-1e41-4a59-b4cf-47884ffa62f4",
   "metadata": {},
   "source": [
    "#### Pop a Seat Mumber"
   ]
  },
  {
   "cell_type": "code",
   "execution_count": 26,
   "id": "9a1b5fb6-48de-472f-b817-9f706052e777",
   "metadata": {},
   "outputs": [
    {
     "name": "stdout",
     "output_type": "stream",
     "text": [
      "\n",
      " Row 2   Seat 3\n"
     ]
    }
   ],
   "source": [
    "print('\\n', student.pop())"
   ]
  }
 ],
 "metadata": {
  "kernelspec": {
   "display_name": "Python 3 (ipykernel)",
   "language": "python",
   "name": "python3"
  },
  "language_info": {
   "codemirror_mode": {
    "name": "ipython",
    "version": 3
   },
   "file_extension": ".py",
   "mimetype": "text/x-python",
   "name": "python",
   "nbconvert_exporter": "python",
   "pygments_lexer": "ipython3",
   "version": "3.12.3"
  }
 },
 "nbformat": 4,
 "nbformat_minor": 5
}
