{
 "cells": [
  {
   "cell_type": "raw",
   "id": "831ffe68-7588-4797-8880-7f3dbfe90417",
   "metadata": {},
   "source": [
    "Columns: ['Student', 'School', 'Program', 'Sec']\n",
    "Schools:  'CSE', 'C&IT'\n",
    "Programs: 'CSE', 'IOT', 'AIDS'\n",
    "          'AIML', 'CSIT', 'ISE', 'CSSE'"
   ]
  },
  {
   "cell_type": "code",
   "execution_count": 33,
   "id": "6ebac83a-0040-4039-a34c-262faecd9593",
   "metadata": {},
   "outputs": [],
   "source": [
    "import pandas as pd\n",
    "from random import shuffle \n",
    "\n",
    "df = pd.read_excel(\"CS Schools Students Data.xlsx\", sheet_name='All Students')"
   ]
  },
  {
   "cell_type": "markdown",
   "id": "0fadb802-15f1-4c02-9b5a-9000e23a0c15",
   "metadata": {},
   "source": [
    "---"
   ]
  },
  {
   "cell_type": "code",
   "execution_count": 96,
   "id": "3463ad80-67ea-4380-a9ff-05de0268decd",
   "metadata": {},
   "outputs": [
    {
     "name": "stdout",
     "output_type": "stream",
     "text": [
      "63\n"
     ]
    }
   ],
   "source": [
    "# No sections in the program\n",
    "batch1 = [{'school':'CSE', 'program':'IOT'}]\n",
    "\n",
    "students1 = pd.DataFrame()\n",
    "for batch in batch1:\n",
    "    students1 = students1._append(df[(df.School==batch['school'])&(df.Program==batch['program'])])\n",
    "\n",
    "print(len(students1))\n",
    "students1 = list(students1.Student)\n",
    "shuffle(students1)"
   ]
  },
  {
   "cell_type": "code",
   "execution_count": 35,
   "id": "a9d940e5-6ce2-4faf-8ff7-a868c7a04c8c",
   "metadata": {},
   "outputs": [
    {
     "name": "stdout",
     "output_type": "stream",
     "text": [
      "53\n"
     ]
    }
   ],
   "source": [
    "# 22 NOV 24\n",
    "batch2 = [{'school':'CSE', 'program':'CSE', 'section':'D'}]\n",
    "\n",
    "students2 = pd.DataFrame()\n",
    "for batch in batch2:\n",
    "    students2 = students2._append(df[(df.School==batch['school'])&(df.Program==batch['program'])&(df.Sec==batch['section'])])\n",
    "\n",
    "print(len(students2))\n",
    "students2 = list(students2.Student)\n",
    "shuffle(students2)"
   ]
  },
  {
   "cell_type": "code",
   "execution_count": 37,
   "id": "6fa54be4-9cb3-4d0e-b8cb-ba70fca59c99",
   "metadata": {},
   "outputs": [
    {
     "name": "stdout",
     "output_type": "stream",
     "text": [
      "234\n"
     ]
    }
   ],
   "source": [
    "# 22 NOV 24\n",
    "batch3 = [{'school':'CSE', 'program':'IOT', 'section':'Z'},\n",
    "          {'school':'CSE', 'program':'CSE', 'section':'A'},\n",
    "          {'school':'C&IT', 'program':'CSSE', 'section':'Z'},\n",
    "          {'school':'C&IT', 'program':'AIML', 'section':'B'}]\n",
    "\n",
    "students3 = pd.DataFrame()\n",
    "for batch in batch3:\n",
    "    students3 = students3._append(df[(df.School==batch['school'])&(df.Program==batch['program'])&(df.Sec==batch['section'])])\n",
    "\n",
    "print(len(students3))\n",
    "students3 = list(students3.Student)\n",
    "shuffle(students3)"
   ]
  },
  {
   "cell_type": "code",
   "execution_count": 41,
   "id": "96369f56-4eae-40ad-bb10-2345bde3946a",
   "metadata": {},
   "outputs": [
    {
     "name": "stdout",
     "output_type": "stream",
     "text": [
      "234\n"
     ]
    }
   ],
   "source": [
    "# 22 NOV 24\n",
    "batch4 = [{'school':'CSE', 'program':'CSE', 'section':'B'},\n",
    "          {'school':'CSE', 'program':'CSE', 'section':'C'},\n",
    "          {'school':'CSE', 'program':'CSE', 'section':'E'},\n",
    "          {'school':'C&IT', 'program':'AIML', 'section':'A'}]\n",
    "\n",
    "students4 = pd.DataFrame()\n",
    "for batch in batch4:\n",
    "    students4 = students4._append(df[(df.School==batch['school'])&(df.Program==batch['program'])&(df.Sec==batch['section'])])\n",
    "\n",
    "print(len(students4))\n",
    "students4 = list(students4.Student)\n",
    "shuffle(students4)"
   ]
  },
  {
   "cell_type": "markdown",
   "id": "d6716d64-680e-48ed-86f7-1c5f849d8b47",
   "metadata": {},
   "source": [
    "---"
   ]
  },
  {
   "cell_type": "code",
   "execution_count": 59,
   "id": "7330eb80-fee5-4aed-8e7b-78f72189c3da",
   "metadata": {},
   "outputs": [
    {
     "data": {
      "text/plain": [
       "'BADDELA  SANJAY KUMAR REDDY'"
      ]
     },
     "execution_count": 59,
     "metadata": {},
     "output_type": "execute_result"
    }
   ],
   "source": [
    "# students2.pop()\n",
    "students3.pop()\n",
    "# students4.pop()"
   ]
  }
 ],
 "metadata": {
  "kernelspec": {
   "display_name": "Python 3 (ipykernel)",
   "language": "python",
   "name": "python3"
  },
  "language_info": {
   "codemirror_mode": {
    "name": "ipython",
    "version": 3
   },
   "file_extension": ".py",
   "mimetype": "text/x-python",
   "name": "python",
   "nbconvert_exporter": "python",
   "pygments_lexer": "ipython3",
   "version": "3.12.3"
  }
 },
 "nbformat": 4,
 "nbformat_minor": 5
}
